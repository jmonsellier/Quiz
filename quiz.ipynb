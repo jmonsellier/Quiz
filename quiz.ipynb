{
 "cells": [
  {
   "cell_type": "code",
   "execution_count": 6,
   "metadata": {},
   "outputs": [
    {
     "name": "stdout",
     "output_type": "stream",
     "text": [
      "Voici notre quiz, tu as trois chances !\n",
      "Dommage ! Il te reste 2 chances\n",
      "Dommage ! Il te reste 1 chances\n",
      "Dommage ! Il te reste 0 chances\n",
      "Oh non ! Tu as perdu le jeu...\n"
     ]
    }
   ],
   "source": [
    "nb_de_chances = 3\n",
    "\n",
    "# on liste nos questions\n",
    "questions=[\n",
    "    [\"Combien de fois la France a gagné la coupe du monde ? \", \"2\"],\n",
    "    [\"Quand a été fondé Apple ? \", \"1976\"],\n",
    "    [\"Qui a fondé SpaceX ? \", \"elon musk\"]\n",
    "    ]\n",
    "\n",
    "print(\"Voici notre quiz, tu as trois chances !\")\n",
    "q=0\n",
    "perdu=False\n",
    "\n",
    "while q < 3: # on boucle pour répondre à nos 3 questions\n",
    "    question= input(questions[q][0]) # on récupère la question dans la liste questions\n",
    "    while question != questions[q][1]: # on récupère la réponse dans la liste questions\n",
    "        nb_de_chances -= 1\n",
    "        print(\"Dommage ! Il te reste {} chances\".format(nb_de_chances))\n",
    "        if nb_de_chances == 0:\n",
    "            print(\"Oh non ! Tu as perdu le jeu...\")\n",
    "            perdu=True\n",
    "            break\n",
    "        question = input(questions[q][0])\n",
    "    if perdu: break\n",
    "    q += 1\n",
    "\n",
    "if nb_de_chances > 0 and perdu==False:\n",
    "    print(\"Bravo ! Tu as gagné le quiz !\")"
   ]
  },
  {
   "cell_type": "code",
   "execution_count": null,
   "metadata": {},
   "outputs": [],
   "source": []
  },
  {
   "cell_type": "code",
   "execution_count": null,
   "metadata": {},
   "outputs": [],
   "source": []
  }
 ],
 "metadata": {
  "kernelspec": {
   "display_name": "base",
   "language": "python",
   "name": "python3"
  },
  "language_info": {
   "codemirror_mode": {
    "name": "ipython",
    "version": 3
   },
   "file_extension": ".py",
   "mimetype": "text/x-python",
   "name": "python",
   "nbconvert_exporter": "python",
   "pygments_lexer": "ipython3",
   "version": "3.9.13"
  },
  "orig_nbformat": 4,
  "vscode": {
   "interpreter": {
    "hash": "b596168ff16544e7be59f9421d2db9bb77ec690a8b7db24e2afb06abdb4edeb6"
   }
  }
 },
 "nbformat": 4,
 "nbformat_minor": 2
}
